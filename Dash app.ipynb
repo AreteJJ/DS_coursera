{
 "cells": [
  {
   "cell_type": "code",
   "execution_count": 3,
   "metadata": {
    "colab": {
     "base_uri": "https://localhost:8080/"
    },
    "executionInfo": {
     "elapsed": 12862,
     "status": "ok",
     "timestamp": 1630604938605,
     "user": {
      "displayName": "Jędrzej Rudkiewicz",
      "photoUrl": "",
      "userId": "05073831616811670948"
     },
     "user_tz": -120
    },
    "id": "9qaQE6KPJCjm",
    "outputId": "e41c601c-4b48-4ba3-908d-d42ae42391ed"
   },
   "outputs": [
    {
     "name": "stdout",
     "output_type": "stream",
     "text": [
      "Collecting jupyter_dash\n",
      "  Downloading jupyter_dash-0.4.0-py3-none-any.whl (20 kB)\n",
      "Requirement already satisfied: ipython in c:\\users\\jrudk\\appdata\\local\\programs\\python\\python37\\lib\\site-packages (from jupyter_dash) (7.19.0)\n",
      "Collecting ansi2html\n",
      "  Downloading ansi2html-1.6.0-py3-none-any.whl (14 kB)\n",
      "Requirement already satisfied: dash in c:\\users\\jrudk\\appdata\\roaming\\python\\python37\\site-packages (from jupyter_dash) (1.21.0)\n",
      "Note: you may need to restart the kernel to use updated packages.Requirement already satisfied: requests in c:\\users\\jrudk\\appdata\\local\\programs\\python\\python37\\lib\\site-packages (from jupyter_dash) (2.25.1)\n",
      "Requirement already satisfied: ipykernel in c:\\users\\jrudk\\appdata\\local\\programs\\python\\python37\\lib\\site-packages (from jupyter_dash) (5.4.2)\n",
      "Requirement already satisfied: flask in c:\\users\\jrudk\\appdata\\roaming\\python\\python37\\site-packages (from jupyter_dash) (2.0.1)\n",
      "Collecting retrying\n",
      "  Downloading retrying-1.3.3.tar.gz (10 kB)\n",
      "Requirement already satisfied: setuptools>=18.5 in c:\\users\\jrudk\\appdata\\local\\programs\\python\\python37\\lib\\site-packages (from ipython->jupyter_dash) (47.1.0)\n",
      "\n"
     ]
    },
    {
     "name": "stderr",
     "output_type": "stream",
     "text": [
      "WARNING: You are using pip version 20.1.1; however, version 21.2.4 is available.\n",
      "You should consider upgrading via the 'c:\\users\\jrudk\\appdata\\local\\programs\\python\\python37\\python.exe -m pip install --upgrade pip' command.\n"
     ]
    },
    {
     "name": "stdout",
     "output_type": "stream",
     "text": [
      "Requirement already satisfied: pygments in c:\\users\\jrudk\\appdata\\local\\programs\\python\\python37\\lib\\site-packages (from ipython->jupyter_dash) (2.7.3)\n",
      "Requirement already satisfied: prompt-toolkit!=3.0.0,!=3.0.1,<3.1.0,>=2.0.0 in c:\\users\\jrudk\\appdata\\local\\programs\\python\\python37\\lib\\site-packages (from ipython->jupyter_dash) (3.0.8)\n",
      "Requirement already satisfied: pickleshare in c:\\users\\jrudk\\appdata\\local\\programs\\python\\python37\\lib\\site-packages (from ipython->jupyter_dash) (0.7.5)\n",
      "Requirement already satisfied: backcall in c:\\users\\jrudk\\appdata\\local\\programs\\python\\python37\\lib\\site-packages (from ipython->jupyter_dash) (0.2.0)\n",
      "Requirement already satisfied: jedi>=0.10 in c:\\users\\jrudk\\appdata\\local\\programs\\python\\python37\\lib\\site-packages (from ipython->jupyter_dash) (0.17.2)\n",
      "Requirement already satisfied: colorama; sys_platform == \"win32\" in c:\\users\\jrudk\\appdata\\local\\programs\\python\\python37\\lib\\site-packages (from ipython->jupyter_dash) (0.4.4)\n",
      "Requirement already satisfied: traitlets>=4.2 in c:\\users\\jrudk\\appdata\\local\\programs\\python\\python37\\lib\\site-packages (from ipython->jupyter_dash) (5.0.5)\n",
      "Requirement already satisfied: decorator in c:\\users\\jrudk\\appdata\\local\\programs\\python\\python37\\lib\\site-packages (from ipython->jupyter_dash) (4.4.2)\n",
      "Requirement already satisfied: dash-table==4.12.0 in c:\\users\\jrudk\\appdata\\roaming\\python\\python37\\site-packages (from dash->jupyter_dash) (4.12.0)\n",
      "Requirement already satisfied: dash-core-components==1.17.1 in c:\\users\\jrudk\\appdata\\roaming\\python\\python37\\site-packages (from dash->jupyter_dash) (1.17.1)\n",
      "Requirement already satisfied: future in c:\\users\\jrudk\\appdata\\local\\programs\\python\\python37\\lib\\site-packages (from dash->jupyter_dash) (0.18.2)\n",
      "Requirement already satisfied: dash-html-components==1.1.4 in c:\\users\\jrudk\\appdata\\roaming\\python\\python37\\site-packages (from dash->jupyter_dash) (1.1.4)\n",
      "Requirement already satisfied: flask-compress in c:\\users\\jrudk\\appdata\\roaming\\python\\python37\\site-packages (from dash->jupyter_dash) (1.10.1)\n",
      "Requirement already satisfied: plotly in c:\\users\\jrudk\\appdata\\roaming\\python\\python37\\site-packages (from dash->jupyter_dash) (5.3.0)\n",
      "Requirement already satisfied: certifi>=2017.4.17 in c:\\users\\jrudk\\appdata\\local\\programs\\python\\python37\\lib\\site-packages (from requests->jupyter_dash) (2020.12.5)\n",
      "Requirement already satisfied: idna<3,>=2.5 in c:\\users\\jrudk\\appdata\\local\\programs\\python\\python37\\lib\\site-packages (from requests->jupyter_dash) (2.10)\n",
      "Requirement already satisfied: urllib3<1.27,>=1.21.1 in c:\\users\\jrudk\\appdata\\local\\programs\\python\\python37\\lib\\site-packages (from requests->jupyter_dash) (1.26.2)\n",
      "Requirement already satisfied: chardet<5,>=3.0.2 in c:\\users\\jrudk\\appdata\\local\\programs\\python\\python37\\lib\\site-packages (from requests->jupyter_dash) (4.0.0)\n",
      "Requirement already satisfied: jupyter-client in c:\\users\\jrudk\\appdata\\local\\programs\\python\\python37\\lib\\site-packages (from ipykernel->jupyter_dash) (6.1.7)\n",
      "Requirement already satisfied: tornado>=4.2 in c:\\users\\jrudk\\appdata\\local\\programs\\python\\python37\\lib\\site-packages (from ipykernel->jupyter_dash) (6.1)\n",
      "Requirement already satisfied: Werkzeug>=2.0 in c:\\users\\jrudk\\appdata\\local\\programs\\python\\python37\\lib\\site-packages (from flask->jupyter_dash) (2.0.1)\n",
      "Requirement already satisfied: click>=7.1.2 in c:\\users\\jrudk\\appdata\\local\\programs\\python\\python37\\lib\\site-packages (from flask->jupyter_dash) (8.0.1)\n",
      "Requirement already satisfied: itsdangerous>=2.0 in c:\\users\\jrudk\\appdata\\local\\programs\\python\\python37\\lib\\site-packages (from flask->jupyter_dash) (2.0.1)\n",
      "Requirement already satisfied: Jinja2>=3.0 in c:\\users\\jrudk\\appdata\\roaming\\python\\python37\\site-packages (from flask->jupyter_dash) (3.0.1)\n",
      "Requirement already satisfied: six>=1.7.0 in c:\\users\\jrudk\\appdata\\local\\programs\\python\\python37\\lib\\site-packages (from retrying->jupyter_dash) (1.15.0)\n",
      "Requirement already satisfied: wcwidth in c:\\users\\jrudk\\appdata\\local\\programs\\python\\python37\\lib\\site-packages (from prompt-toolkit!=3.0.0,!=3.0.1,<3.1.0,>=2.0.0->ipython->jupyter_dash) (0.2.5)\n",
      "Requirement already satisfied: parso<0.8.0,>=0.7.0 in c:\\users\\jrudk\\appdata\\local\\programs\\python\\python37\\lib\\site-packages (from jedi>=0.10->ipython->jupyter_dash) (0.7.1)\n",
      "Requirement already satisfied: ipython-genutils in c:\\users\\jrudk\\appdata\\local\\programs\\python\\python37\\lib\\site-packages (from traitlets>=4.2->ipython->jupyter_dash) (0.2.0)\n",
      "Requirement already satisfied: brotli in c:\\users\\jrudk\\appdata\\roaming\\python\\python37\\site-packages (from flask-compress->dash->jupyter_dash) (1.0.9)\n",
      "Requirement already satisfied: tenacity>=6.2.0 in c:\\users\\jrudk\\appdata\\roaming\\python\\python37\\site-packages (from plotly->dash->jupyter_dash) (8.0.1)\n",
      "Requirement already satisfied: pyzmq>=13 in c:\\users\\jrudk\\appdata\\local\\programs\\python\\python37\\lib\\site-packages (from jupyter-client->ipykernel->jupyter_dash) (20.0.0)\n",
      "Requirement already satisfied: jupyter-core>=4.6.0 in c:\\users\\jrudk\\appdata\\local\\programs\\python\\python37\\lib\\site-packages (from jupyter-client->ipykernel->jupyter_dash) (4.7.0)\n",
      "Requirement already satisfied: python-dateutil>=2.1 in c:\\users\\jrudk\\appdata\\local\\programs\\python\\python37\\lib\\site-packages (from jupyter-client->ipykernel->jupyter_dash) (2.8.1)\n",
      "Requirement already satisfied: importlib-metadata; python_version < \"3.8\" in c:\\users\\jrudk\\appdata\\local\\programs\\python\\python37\\lib\\site-packages (from click>=7.1.2->flask->jupyter_dash) (3.3.0)\n",
      "Requirement already satisfied: MarkupSafe>=2.0 in c:\\users\\jrudk\\appdata\\local\\programs\\python\\python37\\lib\\site-packages (from Jinja2>=3.0->flask->jupyter_dash) (2.0.1)\n",
      "Requirement already satisfied: pywin32>=1.0; sys_platform == \"win32\" in c:\\users\\jrudk\\appdata\\local\\programs\\python\\python37\\lib\\site-packages (from jupyter-core>=4.6.0->jupyter-client->ipykernel->jupyter_dash) (300)\n",
      "Requirement already satisfied: typing-extensions>=3.6.4; python_version < \"3.8\" in c:\\users\\jrudk\\appdata\\local\\programs\\python\\python37\\lib\\site-packages (from importlib-metadata; python_version < \"3.8\"->click>=7.1.2->flask->jupyter_dash) (3.7.4.3)\n",
      "Requirement already satisfied: zipp>=0.5 in c:\\users\\jrudk\\appdata\\local\\programs\\python\\python37\\lib\\site-packages (from importlib-metadata; python_version < \"3.8\"->click>=7.1.2->flask->jupyter_dash) (3.4.0)\n",
      "Building wheels for collected packages: retrying\n",
      "  Building wheel for retrying (setup.py): started\n",
      "  Building wheel for retrying (setup.py): finished with status 'done'\n",
      "  Created wheel for retrying: filename=retrying-1.3.3-py3-none-any.whl size=11429 sha256=5e426038b1da9405acc5b35f428fb85ca59de405d8f829486f23f81a7992b07f\n",
      "  Stored in directory: c:\\users\\jrudk\\appdata\\local\\pip\\cache\\wheels\\f9\\8d\\8d\\f6af3f7f9eea3553bc2fe6d53e4b287dad18b06a861ac56ddf\n",
      "Successfully built retrying\n",
      "Installing collected packages: ansi2html, retrying, jupyter-dash\n",
      "Successfully installed ansi2html-1.6.0 jupyter-dash-0.4.0 retrying-1.3.3\n"
     ]
    }
   ],
   "source": [
    "pip install jupyter_dash"
   ]
  },
  {
   "cell_type": "code",
   "execution_count": 4,
   "metadata": {
    "colab": {
     "base_uri": "https://localhost:8080/"
    },
    "executionInfo": {
     "elapsed": 2931,
     "status": "ok",
     "timestamp": 1630604951283,
     "user": {
      "displayName": "Jędrzej Rudkiewicz",
      "photoUrl": "",
      "userId": "05073831616811670948"
     },
     "user_tz": -120
    },
    "id": "dWeu2vtsoOAt",
    "outputId": "984c3811-e878-4956-d46f-9dbe96ef0eb4"
   },
   "outputs": [
    {
     "name": "stdout",
     "output_type": "stream",
     "text": [
      "Requirement already satisfied: dash in c:\\users\\jrudk\\appdata\\roaming\\python\\python37\\site-packages (1.21.0)\n",
      "Requirement already satisfied: future in c:\\users\\jrudk\\appdata\\local\\programs\\python\\python37\\lib\\site-packages (from dash) (0.18.2)\n",
      "Requirement already satisfied: plotly in c:\\users\\jrudk\\appdata\\roaming\\python\\python37\\site-packages (from dash) (5.3.0)\n",
      "Requirement already satisfied: Flask>=1.0.4 in c:\\users\\jrudk\\appdata\\roaming\\python\\python37\\site-packages (from dash) (2.0.1)\n",
      "Requirement already satisfied: dash-core-components==1.17.1 in c:\\users\\jrudk\\appdata\\roaming\\python\\python37\\site-packages (from dash) (1.17.1)\n",
      "Requirement already satisfied: dash-html-components==1.1.4 in c:\\users\\jrudk\\appdata\\roaming\\python\\python37\\site-packages (from dash) (1.1.4)\n",
      "Requirement already satisfied: flask-compress in c:\\users\\jrudk\\appdata\\roaming\\python\\python37\\site-packages (from dash) (1.10.1)\n",
      "Requirement already satisfied: dash-table==4.12.0 in c:\\users\\jrudk\\appdata\\roaming\\python\\python37\\site-packages (from dash) (4.12.0)\n",
      "Requirement already satisfied: six in c:\\users\\jrudk\\appdata\\local\\programs\\python\\python37\\lib\\site-packages (from plotly->dash) (1.15.0)\n",
      "Requirement already satisfied: tenacity>=6.2.0 in c:\\users\\jrudk\\appdata\\roaming\\python\\python37\\site-packages (from plotly->dash) (8.0.1)\n",
      "Requirement already satisfied: itsdangerous>=2.0 in c:\\users\\jrudk\\appdata\\local\\programs\\python\\python37\\lib\\site-packages (from Flask>=1.0.4->dash) (2.0.1)\n",
      "Requirement already satisfied: click>=7.1.2 in c:\\users\\jrudk\\appdata\\local\\programs\\python\\python37\\lib\\site-packages (from Flask>=1.0.4->dash) (8.0.1)\n",
      "Requirement already satisfied: Werkzeug>=2.0 in c:\\users\\jrudk\\appdata\\local\\programs\\python\\python37\\lib\\site-packages (from Flask>=1.0.4->dash) (2.0.1)\n",
      "Requirement already satisfied: Jinja2>=3.0 in c:\\users\\jrudk\\appdata\\roaming\\python\\python37\\site-packages (from Flask>=1.0.4->dash) (3.0.1)\n",
      "Requirement already satisfied: brotli in c:\\users\\jrudk\\appdata\\roaming\\python\\python37\\site-packages (from flask-compress->dash) (1.0.9)\n",
      "Requirement already satisfied: importlib-metadata; python_version < \"3.8\" in c:\\users\\jrudk\\appdata\\local\\programs\\python\\python37\\lib\\site-packages (from click>=7.1.2->Flask>=1.0.4->dash) (3.3.0)\n",
      "Requirement already satisfied: colorama; platform_system == \"Windows\" in c:\\users\\jrudk\\appdata\\local\\programs\\python\\python37\\lib\\site-packages (from click>=7.1.2->Flask>=1.0.4->dash) (0.4.4)\n",
      "Requirement already satisfied: MarkupSafe>=2.0 in c:\\users\\jrudk\\appdata\\local\\programs\\python\\python37\\lib\\site-packages (from Jinja2>=3.0->Flask>=1.0.4->dash) (2.0.1)\n",
      "Requirement already satisfied: zipp>=0.5 in c:\\users\\jrudk\\appdata\\local\\programs\\python\\python37\\lib\\site-packages (from importlib-metadata; python_version < \"3.8\"->click>=7.1.2->Flask>=1.0.4->dash) (3.4.0)\n",
      "Requirement already satisfied: typing-extensions>=3.6.4; python_version < \"3.8\" in c:\\users\\jrudk\\appdata\\local\\programs\\python\\python37\\lib\\site-packages (from importlib-metadata; python_version < \"3.8\"->click>=7.1.2->Flask>=1.0.4->dash) (3.7.4.3)\n",
      "Note: you may need to restart the kernel to use updated packages.\n"
     ]
    },
    {
     "name": "stderr",
     "output_type": "stream",
     "text": [
      "WARNING: You are using pip version 20.1.1; however, version 21.2.4 is available.\n",
      "You should consider upgrading via the 'c:\\users\\jrudk\\appdata\\local\\programs\\python\\python37\\python.exe -m pip install --upgrade pip' command.\n"
     ]
    }
   ],
   "source": [
    "pip install dash"
   ]
  },
  {
   "cell_type": "code",
   "execution_count": null,
   "metadata": {
    "colab": {
     "base_uri": "https://localhost:8080/",
     "height": 723
    },
    "executionInfo": {
     "elapsed": 1901,
     "status": "ok",
     "timestamp": 1630605696838,
     "user": {
      "displayName": "Jędrzej Rudkiewicz",
      "photoUrl": "",
      "userId": "05073831616811670948"
     },
     "user_tz": -120
    },
    "id": "HcaahUhnQ042",
    "outputId": "2e494020-7d08-4c02-ab73-de889b93220f"
   },
   "outputs": [],
   "source": [
    "# Import required libraries\n",
    "import pandas as pd\n",
    "import dash\n",
    "import dash_html_components as html\n",
    "import dash_core_components as dcc\n",
    "from dash.dependencies import Input, Output, State\n",
    "import plotly.express as px\n",
    "from jupyter_dash import JupyterDash\n",
    "\n",
    "# Read the airline data into pandas dataframe\n",
    "spacex_df = pd.read_csv(\"spacex_launch_dash.csv\")\n",
    "max_payload = spacex_df['Payload Mass (kg)'].max()\n",
    "min_payload = spacex_df['Payload Mass (kg)'].min()\n",
    "\n",
    "# Create a dash application\n",
    "app = JupyterDash(__name__)\n",
    "JupyterDash.infer_jupyter_proxy_config()\n",
    "\n",
    "# Create an app layout\n",
    "app.layout = html.Div(children=[html.H1('SpaceX Launch Records Dashboard',\n",
    "                                        style={'textAlign': 'center', 'color': '#503D36',\n",
    "                                               'font-size': 40}),\n",
    "                                # TASK 1: Add a dropdown list to enable Launch Site selection\n",
    "                                # The default select value is for ALL sites\n",
    "                               html.Div([ dcc.Dropdown(\n",
    "                                    id='site-dropdown',\n",
    "                                    options= [{'label': 'CCAFS LC-40', 'value': '1'},\n",
    "                                     {'label': 'VAFB SLC-4E', 'value': '2'},\n",
    "                                     {'label': 'KSC LC-39A', 'value': '3'}],\n",
    "                                    placeholder='Select a Launch Site',\n",
    "                                                  style={\"width\": \"80%\", \"padding\" : \"3px\", \"font\" : \"20px\", \"text-align-last\" : \"center\"},\n",
    "                                    searchable= True\n",
    "                                )]),\n",
    "                                \n",
    "                               html.Div(dcc.Graph(id='success-pie-chart', figure= px.pie(spacex_df, values= \"class\", names = \"Launch Site\", title='Launch Site success'))),\n",
    "                               \n",
    "                               \n",
    "                               html.Div([\n",
    "                                         dcc.Slider(\n",
    "                                    min=min_payload,\n",
    "                                    max=max_payload,\n",
    "                                    step=1000,\n",
    "                                    value=500,\n",
    "                                    )]),\n",
    "                                \n",
    "                                html.Div(dcc.Graph(id='scatter-chart', figure= px.scatter(spacex_df, x= \"Payload Mass (kg)\", y = \"class\", color=\"Booster Version\", title='Payload vs Success'))),\n",
    "\n",
    "\n",
    "                                \n",
    "])  \n",
    "\n",
    "\n",
    "\n",
    "# TASK 2:\n",
    "# Add a callback function for `site-dropdown` as input, `success-pie-chart` as output\n",
    "\n",
    "@app.callback( \n",
    "               [Output(component_id='success-pie-chart', component_property='children')],\n",
    "               [Input(component_id='site-dropdown', component_property='value')],)\n",
    "# TASK 4:\n",
    "                                \n",
    "\n",
    "\n",
    "# Add a callback function\n",
    "#for `site-dropdown` and `payload-slider` as inputs, `success-payload-scatter-chart` as output\n",
    "\n",
    "def get_graph(value, children1):\n",
    "      pie_chart = px.pie(spacex_df.groupby(\"Launch Site\")[\"class\"].sum(), names = spacex_df[\"Launch Site\"].unique, title='smm')\n",
    "  \n",
    "      return [dcc.Graph(figure=pie_chart)]\n",
    "# Run the app\n",
    "if __name__ == '__main__':\n",
    "    # REVIEW8: Adding dev_tools_ui=False, dev_tools_props_check=False can prevent error appearing before calling callback function\n",
    "    app.run_server(mode=\"inline\", host=\"localhost\", debug=False, dev_tools_ui=False, dev_tools_props_check=False)"
   ]
  },
  {
   "cell_type": "code",
   "execution_count": null,
   "metadata": {
    "id": "DRErBbCmhKR_"
   },
   "outputs": [],
   "source": []
  }
 ],
 "metadata": {
  "colab": {
   "authorship_tag": "ABX9TyO1G/4nu8T+8EqYcrGz8Q50",
   "mount_file_id": "1Yb-OITgDP0L7rT_X5IHcaPM_JmuMTloD",
   "name": "Kopia notatnika Untitled3.ipynb",
   "provenance": [
    {
     "file_id": "1Yb-OITgDP0L7rT_X5IHcaPM_JmuMTloD",
     "timestamp": 1630605742722
    }
   ]
  },
  "kernelspec": {
   "display_name": "Python 3",
   "language": "python",
   "name": "python3"
  },
  "language_info": {
   "codemirror_mode": {
    "name": "ipython",
    "version": 3
   },
   "file_extension": ".py",
   "mimetype": "text/x-python",
   "name": "python",
   "nbconvert_exporter": "python",
   "pygments_lexer": "ipython3",
   "version": "3.7.9"
  }
 },
 "nbformat": 4,
 "nbformat_minor": 4
}
